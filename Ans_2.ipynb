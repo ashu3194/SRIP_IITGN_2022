{
  "nbformat": 4,
  "nbformat_minor": 0,
  "metadata": {
    "colab": {
      "name": "Ans_2.ipynb",
      "provenance": []
    },
    "kernelspec": {
      "name": "python3",
      "display_name": "Python 3"
    },
    "language_info": {
      "name": "python"
    },
    "accelerator": "GPU"
  },
  "cells": [
    {
      "cell_type": "markdown",
      "source": [
        "Imporing Libraries"
      ],
      "metadata": {
        "id": "tKwWSIbRBaGF"
      }
    },
    {
      "cell_type": "code",
      "execution_count": null,
      "metadata": {
        "id": "S4tUkFSzeP7n"
      },
      "outputs": [],
      "source": [
        "import jax.numpy as np\n",
        "from jax.scipy.linalg import cholesky\n",
        "\n",
        "a = np.array([\n",
        "    [1, 0.8],\n",
        "    [0.8, 1],\n",
        "])\n",
        "\n",
        "U = cholesky(a) "
      ]
    },
    {
      "cell_type": "code",
      "source": [
        "from jax import random as rnd\n",
        "\n",
        "key = rnd.PRNGKey(42)\n",
        "init_cov = rnd.normal(key, shape=(5, 5))  # let's make a 5x5 covariance matrix\n",
        "\n",
        "def transform_to_covariance_matrix(sq_mat):\n",
        "    U = np.triu(sq_mat)\n",
        "    U_T = np.transpose(U)\n",
        "    return np.dot(U_T, U)"
      ],
      "metadata": {
        "id": "ls_zx8lZeiav"
      },
      "execution_count": null,
      "outputs": []
    },
    {
      "cell_type": "markdown",
      "source": [
        "Importing multivariate_normal"
      ],
      "metadata": {
        "id": "uMvRx_hCB1lg"
      }
    },
    {
      "cell_type": "code",
      "source": [
        "from jax.scipy.stats import multivariate_normal\n",
        "from jax import vmap\n",
        "\n",
        "def loglike(params, data):\n",
        "    mu, untransformed_cov = params\n",
        "    cov = transform_to_covariance_matrix(untransformed_cov)\n",
        "    def logpdf_func(datum):\n",
        "        \"\"\"logpdf of multivariate normal for one datum.\"\"\"\n",
        "        return multivariate_normal.logpdf(mu, cov, datum)\n",
        "    logp = vmap(logpdf_func)(data)\n",
        "    return np.sum(logp)"
      ],
      "metadata": {
        "id": "mzqfCLEoeyIl"
      },
      "execution_count": null,
      "outputs": []
    },
    {
      "cell_type": "code",
      "source": [
        "from jax import grad\n",
        "dloglike = grad(loglike)"
      ],
      "metadata": {
        "id": "oDThaWdjezgQ"
      },
      "execution_count": null,
      "outputs": []
    },
    {
      "cell_type": "code",
      "source": [
        "import jax.random as jran\n",
        "mu = jran.normal(key, shape=(5,))\n",
        "untransformed_cov = jran.normal(key, shape=(5, 5))\n",
        "params = mu, untransformed_cov  # package them up into a convenient variable."
      ],
      "metadata": {
        "id": "Vpe4gFxHe4rT"
      },
      "execution_count": null,
      "outputs": []
    },
    {
      "cell_type": "code",
      "source": [
        "from jax import jit\n",
        "from jax.experimental.optimizers import adam\n",
        "\n",
        "init, update, get_params = adam(step_size=0.005)\n",
        "get_params = jit(get_params); update = jit(update)\n",
        "dloglike = jit(dloglike); loglike = jit(loglike)\n",
        "\n",
        "state = init(params)\n",
        "for i in range(300):\n",
        "    params = get_params(state)\n",
        "    # g = dloglike(params, data)\n",
        "    # state = update(i, g, state)\n",
        "mu_opt, untransformed_cov_opt = get_params(state)\n",
        "cov_opt = transform_to_covariance_matrix(untransformed_cov_opt)"
      ],
      "metadata": {
        "id": "e4bdklBjfNyw"
      },
      "execution_count": null,
      "outputs": []
    },
    {
      "cell_type": "markdown",
      "source": [
        "Resources\n",
        "\n",
        "\n",
        "*   https://jax.readthedocs.io/en/latest/_autosummary/jax.random.multivariate_normal.html\n",
        "*   https://en.wikipedia.org/wiki/Multivariate_normal_distribution\n",
        "\n"
      ],
      "metadata": {
        "id": "T_RJ202FB9W7"
      }
    }
  ]
}